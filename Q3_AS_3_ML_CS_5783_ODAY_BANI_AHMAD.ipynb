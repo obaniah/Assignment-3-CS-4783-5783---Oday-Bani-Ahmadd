{
  "nbformat": 4,
  "nbformat_minor": 0,
  "metadata": {
    "colab": {
      "provenance": [],
      "collapsed_sections": [],
      "authorship_tag": "ABX9TyM6YJJb9QKuDzxBpvBczOcz",
      "include_colab_link": true
    },
    "kernelspec": {
      "name": "python3",
      "display_name": "Python 3"
    },
    "language_info": {
      "name": "python"
    },
    "gpuClass": "standard"
  },
  "cells": [
    {
      "cell_type": "markdown",
      "metadata": {
        "id": "view-in-github",
        "colab_type": "text"
      },
      "source": [
        "<a href=\"https://colab.research.google.com/github/obaniah/Assignment-3-CS-4783-5783---Oday-Bani-Ahmadd/blob/main/Q3_AS_3_ML_CS_5783_ODAY_BANI_AHMAD.ipynb\" target=\"_parent\"><img src=\"https://colab.research.google.com/assets/colab-badge.svg\" alt=\"Open In Colab\"/></a>"
      ]
    },
    {
      "cell_type": "code",
      "execution_count": null,
      "metadata": {
        "id": "8I21yIUMz7D9"
      },
      "outputs": [],
      "source": [
        "import numpy as np\n",
        "import keras as keras\n",
        "from keras.models import Sequential\n",
        "from keras.layers import Dense, Conv2D, Flatten , MaxPooling2D , Dropout"
      ]
    },
    {
      "cell_type": "markdown",
      "source": [
        "Q3 . 1.  What are the dimensions of the input and the kernel (or filter)? How many parameters are there in the kernel f? \n"
      ],
      "metadata": {
        "id": "bCFargmp-Bwd"
      }
    },
    {
      "cell_type": "markdown",
      "source": [
        "\n",
        "*   Filter Dimensions (3, 3) \n",
        "\n",
        "*   Input Dimensions (6, 6)\n",
        "\n",
        "*   Number of parameters in the kernel = 3*3 = 9 \n",
        "\n",
        "\n",
        "\n",
        "\n",
        "\n",
        " "
      ],
      "metadata": {
        "id": "__6YcOY78DVy"
      }
    },
    {
      "cell_type": "code",
      "source": [
        "x = np.matrix('7 5 0 0 3 2; 6 4 5 1 4 8; 9 0 2 2 5 4; 6 3 4 7 9 8; 5 7 5 6 9 0; 7 9 0 8 2 3')\n",
        "print(' input  ','\\n',  x, '\\n')\n",
        "print('dimensions of the input  is   ',x.shape)\n",
        "\n"
      ],
      "metadata": {
        "colab": {
          "base_uri": "https://localhost:8080/"
        },
        "id": "E4ZLTmkl0WOq",
        "outputId": "25369f38-4da7-4f98-815c-2b10a6688b6b"
      },
      "execution_count": null,
      "outputs": [
        {
          "output_type": "stream",
          "name": "stdout",
          "text": [
            " input   \n",
            " [[7 5 0 0 3 2]\n",
            " [6 4 5 1 4 8]\n",
            " [9 0 2 2 5 4]\n",
            " [6 3 4 7 9 8]\n",
            " [5 7 5 6 9 0]\n",
            " [7 9 0 8 2 3]] \n",
            "\n",
            "dimensions of the input  is    (6, 6)\n"
          ]
        }
      ]
    },
    {
      "cell_type": "code",
      "source": [
        "f = np.matrix('1 0 -1; 2 0 -2; 1 0 -1')\n",
        "print(' Kernel  ','\\n',  f, '\\n')\n",
        "print('dimensions of the Kernel  is' ,f.shape)\n"
      ],
      "metadata": {
        "colab": {
          "base_uri": "https://localhost:8080/"
        },
        "id": "86o6MvLJ31u_",
        "outputId": "9032ce58-b7eb-4ffd-eb1f-08f0467460cb"
      },
      "execution_count": null,
      "outputs": [
        {
          "output_type": "stream",
          "name": "stdout",
          "text": [
            " Kernel   \n",
            " [[ 1  0 -1]\n",
            " [ 2  0 -2]\n",
            " [ 1  0 -1]] \n",
            "\n",
            "dimensions of the Kernel  is (3, 3)\n"
          ]
        }
      ]
    },
    {
      "cell_type": "code",
      "source": [
        "input_dim = x.shape\n",
        "print('input Dimensions', input_dim,'\\n\\n')\n",
        "Kernel_dim = f.shape\n",
        "print('Filter Dimensions', Kernel_dim )\n",
        "\n"
      ],
      "metadata": {
        "colab": {
          "base_uri": "https://localhost:8080/"
        },
        "id": "WHnC4pSf-Dqs",
        "outputId": "d0b65d3b-0666-430f-9b76-b235370d8ed9"
      },
      "execution_count": null,
      "outputs": [
        {
          "output_type": "stream",
          "name": "stdout",
          "text": [
            "input Dimensions (6, 6) \n",
            "\n",
            "\n",
            "Filter Dimensions (3, 3)\n"
          ]
        }
      ]
    },
    {
      "cell_type": "markdown",
      "source": [
        "Q3 - 2. What is the output activation map when you apply the convolutional operation using the filter f on the input X without padding?"
      ],
      "metadata": {
        "id": "8l66pSSI_d7c"
      }
    },
    {
      "cell_type": "code",
      "source": [
        "el_total = 0\n",
        "activation_map = []\n",
        "\n",
        "for m in range(4):\n",
        "  for i in range(4):\n",
        "    sub = x[m:m+3 , i : i+3]\n",
        "    sub_total = 0\n",
        "\n",
        "    #print(sub,'\\n')\n",
        "    sub = np.matrix(sub)\n",
        "    sub_total = 0\n",
        "    for k in range(3):\n",
        "      for h in range(3):\n",
        "        el = f[k,h]*sub[k,h]\n",
        "        sub_total = el + sub_total\n",
        "        #print(y_r)\n",
        "\n",
        "\n",
        "\n",
        "    #print(el_total)\n",
        "    activation_map.append(sub_total)\n",
        "\n",
        "\n",
        "#print(activation_map)  \n",
        "activation_map = np.asarray(activation_map)\n",
        "activation_map  = np.reshape(activation_map, (4, 4)) \n",
        "activation_map = np.asmatrix(activation_map)\n",
        "\n",
        "print('Output Activation Map','\\n\\n', activation_map)  \n"
      ],
      "metadata": {
        "colab": {
          "base_uri": "https://localhost:8080/"
        },
        "id": "65sd_HxytgxE",
        "outputId": "4df0e6ca-bb75-4849-ca3e-05a07e11ffd6"
      },
      "execution_count": null,
      "outputs": [
        {
          "output_type": "stream",
          "name": "stdout",
          "text": [
            "Output Activation Map \n",
            "\n",
            " [[ 16   9  -4 -18]\n",
            " [ 17  -5 -10 -12]\n",
            " [ 11  -9 -17   2]\n",
            " [  9  -1 -15  16]]\n"
          ]
        }
      ]
    },
    {
      "cell_type": "markdown",
      "source": [
        "Q3 - 3. What is the output when you apply a max-pooling operation on the output from the previous question?"
      ],
      "metadata": {
        "id": "JBcT0izD7w4j"
      }
    },
    {
      "cell_type": "code",
      "source": [
        "#output when you apply a max-pooling\n",
        "\n",
        "AM = activation_map\n",
        "\n",
        "OUT_MP =[]\n",
        "for m in range(0,len(AM),2):\n",
        "  for i in range(0,len(AM),2):\n",
        "    MP = AM[ m : m+2 , i : i+2]\n",
        "    MP = np.matrix(MP)\n",
        "    max_value_MP = np.max(MP)\n",
        "    #print(max_value_MP)\n",
        "    OUT_MP.append(max_value_MP)\n",
        "\n",
        "\n",
        "\n",
        "\n",
        "\n",
        "    #print(MP,'\\n')\n",
        "\n",
        "\n",
        "OUT_MP  = np.array(OUT_MP)\n",
        "OUT_MP  = np.reshape(OUT_MP, (2, 2)) \n",
        "OUT_MP  = np.asmatrix(OUT_MP)\n",
        "print('Output when you apply a max-pooling\\n',OUT_MP)   \n",
        "\n",
        "\n",
        "\n",
        "\n"
      ],
      "metadata": {
        "colab": {
          "base_uri": "https://localhost:8080/"
        },
        "id": "mZD0sVXt8MZ0",
        "outputId": "75d7d8e6-93fa-4cb1-8f0f-bb4525fb0475"
      },
      "execution_count": null,
      "outputs": [
        {
          "output_type": "stream",
          "name": "stdout",
          "text": [
            "Output when you apply a max-pooling\n",
            " [[17 -4]\n",
            " [11 16]]\n"
          ]
        }
      ]
    },
    {
      "cell_type": "markdown",
      "source": [
        "***test my loop***"
      ],
      "metadata": {
        "id": "h1yz-L6A8N9b"
      }
    },
    {
      "cell_type": "code",
      "source": [
        "hh = np.matrix([[1., 0., 0., 0., 0., 0.],\n",
        "        [0., 1., 0., 0., 1., 1.],\n",
        "        [0., 0., 1., 0., 1., 1.],\n",
        "        [0., 0., 0., 1., 1., 0.],\n",
        "        [1., 0., 1., 1., 1., 0.],\n",
        "        [0., 1., 0., 0., 0., 1.]])\n",
        "\n",
        "ff = np.matrix('1 0 1; 0 1 0; 1 0 1')\n",
        "\n",
        "\n",
        "el_total2 = 0\n",
        "activation_map2 = []\n",
        "\n",
        "for m in range(4):\n",
        "  for i in range(4):\n",
        "    sub2 = hh[m:m+3 , i : i+3]\n",
        "    #print(sub,'\\n')\n",
        "    sub2 = np.matrix(sub2)\n",
        "    sub_total = 0\n",
        "    for k in range(3):\n",
        "      for h in range(3):\n",
        "        el2 = ff[k,h]*sub2[k,h]\n",
        "        sub_total = el2 + sub_total\n",
        "        #print(y_r)\n",
        "        #el_total2 = el_total2 + el2\n",
        "        #if h == 3 and k ==3:\n",
        "        #el_total2=0  \n",
        "      \n",
        "\n",
        "\n",
        "\n",
        "    #print(sub_total)\n",
        "    activation_map2.append(sub_total)\n",
        "\n",
        "\n",
        "#print(activation_map)  \n",
        "activation_map2 = np.asarray(activation_map2)\n",
        "activation_map2  = np.reshape(activation_map2, (4, 4)) \n",
        "activation_map2 = np.asmatrix(activation_map2)\n",
        "\n",
        "print('Output Activation Map','\\n\\n', activation_map2)  \n",
        "\n"
      ],
      "metadata": {
        "colab": {
          "base_uri": "https://localhost:8080/"
        },
        "id": "Yh6MHRKuP5Kq",
        "outputId": "ff82bb61-dc8b-4836-f728-044b808602c4"
      },
      "execution_count": null,
      "outputs": [
        {
          "output_type": "stream",
          "name": "stdout",
          "text": [
            "Output Activation Map \n",
            "\n",
            " [[3. 0. 2. 2.]\n",
            " [0. 3. 2. 3.]\n",
            " [3. 1. 5. 3.]\n",
            " [0. 3. 2. 3.]]\n"
          ]
        }
      ]
    }
  ]
}