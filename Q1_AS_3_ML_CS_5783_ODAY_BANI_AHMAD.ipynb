{
  "nbformat": 4,
  "nbformat_minor": 0,
  "metadata": {
    "colab": {
      "provenance": [],
      "collapsed_sections": [],
      "include_colab_link": true
    },
    "kernelspec": {
      "name": "python3",
      "display_name": "Python 3"
    },
    "language_info": {
      "name": "python"
    },
    "accelerator": "GPU",
    "gpuClass": "standard"
  },
  "cells": [
    {
      "cell_type": "markdown",
      "metadata": {
        "id": "view-in-github",
        "colab_type": "text"
      },
      "source": [
        "<a href=\"https://colab.research.google.com/github/obaniah/Assignment-3-CS-4783-5783---Oday-Bani-Ahmadd/blob/main/Q1_AS_3_ML_CS_5783_ODAY_BANI_AHMAD.ipynb\" target=\"_parent\"><img src=\"https://colab.research.google.com/assets/colab-badge.svg\" alt=\"Open In Colab\"/></a>"
      ]
    },
    {
      "cell_type": "markdown",
      "source": [
        "[Question 1]"
      ],
      "metadata": {
        "id": "slaM_7NxOjaF"
      }
    },
    {
      "cell_type": "code",
      "execution_count": 3,
      "metadata": {
        "id": "6KH6BUlLOd8Y",
        "colab": {
          "base_uri": "https://localhost:8080/"
        },
        "outputId": "2818ad6d-7418-4d65-c312-00c8aa8df308"
      },
      "outputs": [
        {
          "output_type": "stream",
          "name": "stdout",
          "text": [
            "Downloading data from https://storage.googleapis.com/tensorflow/tf-keras-datasets/mnist.npz\n",
            "11490434/11490434 [==============================] - 0s 0us/step\n"
          ]
        }
      ],
      "source": [
        "from keras.datasets import mnist\n",
        "#download mnist data and split into train and test sets\n",
        "(X_train, y_train), (X_test, y_test) = mnist.load_data()"
      ]
    },
    {
      "cell_type": "code",
      "source": [
        "import matplotlib.pyplot as plt\n",
        "#plot the first image in the dataset\n",
        "plt.imshow(X_train[0])"
      ],
      "metadata": {
        "colab": {
          "base_uri": "https://localhost:8080/",
          "height": 283
        },
        "id": "TNNSjsbcOyiz",
        "outputId": "cdef1a91-36ec-4cd1-cb15-d7a1ee2627b4"
      },
      "execution_count": 4,
      "outputs": [
        {
          "output_type": "execute_result",
          "data": {
            "text/plain": [
              "<matplotlib.image.AxesImage at 0x7f7fc804d190>"
            ]
          },
          "metadata": {},
          "execution_count": 4
        },
        {
          "output_type": "display_data",
          "data": {
            "text/plain": [
              "<Figure size 432x288 with 1 Axes>"
            ],
            "image/png": "[encoded data removed]"
          },
          "metadata": {
            "needs_background": "light"
          }
        }
      ]
    },
    {
      "cell_type": "code",
      "source": [
        "#check image shape\n",
        "X_train[0].shape"
      ],
      "metadata": {
        "colab": {
          "base_uri": "https://localhost:8080/"
        },
        "id": "VV7gd4KMO1hF",
        "outputId": "d94698de-f67a-4845-896b-43898ad4ca66"
      },
      "execution_count": 5,
      "outputs": [
        {
          "output_type": "execute_result",
          "data": {
            "text/plain": [
              "(28, 28)"
            ]
          },
          "metadata": {},
          "execution_count": 5
        }
      ]
    },
    {
      "cell_type": "code",
      "source": [
        "#reshape data to fit model\n",
        "X_train = X_train.reshape(60000,28,28,1)\n",
        "X_test = X_test.reshape(10000,28,28,1)"
      ],
      "metadata": {
        "id": "otBDuhK2O2ke"
      },
      "execution_count": 6,
      "outputs": []
    },
    {
      "cell_type": "code",
      "source": [
        "from keras.utils import to_categorical\n",
        "#one-hot encode target column\n",
        "y_train = to_categorical(y_train)\n",
        "y_test = to_categorical(y_test)\n",
        "y_train[0]"
      ],
      "metadata": {
        "colab": {
          "base_uri": "https://localhost:8080/"
        },
        "id": "8-swPgsmO2sd",
        "outputId": "f01d157f-2c00-4470-c427-a064e9cd5e45"
      },
      "execution_count": 7,
      "outputs": [
        {
          "output_type": "execute_result",
          "data": {
            "text/plain": [
              "array([0., 0., 0., 0., 0., 1., 0., 0., 0., 0.], dtype=float32)"
            ]
          },
          "metadata": {},
          "execution_count": 7
        }
      ]
    },
    {
      "cell_type": "markdown",
      "source": [
        "Q1- 1. A regular CNN where the number of filters in each layer **increases** as the depth of the \n",
        "network grows i.e., the Lth layer will have more filters than the (L-1)th layer. \n",
        "\n",
        "\n",
        "---\n",
        "the best of my trail was the following\n",
        "\n",
        "*   SGD , Batch size = 32 , epochs = 25 , val_loss: 0.0228 - val_accuracy: 0.9946\n",
        "\n",
        "\n",
        "\n"
      ],
      "metadata": {
        "id": "o3n3OG96KNxq"
      }
    },
    {
      "cell_type": "code",
      "source": [
        "from keras.models import Sequential\n",
        "from keras.layers import Dense, Conv2D, Flatten , MaxPooling2D , Dropout \n",
        "\n",
        "#create model\n",
        "model_inc_f = Sequential()\n",
        "#add model layers\n",
        "\n",
        "model_inc_f.add(Conv2D(5, (3, 3), padding='same', activation='relu', input_shape=(28,28,1)))\n",
        "model_inc_f.add(Conv2D(7, (3, 3), activation='relu'))\n",
        "model_inc_f.add(Conv2D(8, (3, 3), activation='relu'))\n",
        "model_inc_f.add(Conv2D(16, (3, 3), activation='relu'))\n",
        "model_inc_f.add(Conv2D(32, (3, 3), activation='relu'))\n",
        "\n",
        "\n",
        "model_inc_f.add(MaxPooling2D(pool_size=(2, 2)))\n",
        "model_inc_f.add(Dropout(0.25))\n",
        " \n",
        "model_inc_f.add(Conv2D(64, (3, 3), padding='same', activation='relu'))\n",
        "model_inc_f.add(Conv2D(128, (3, 3), activation='relu'))\n",
        "model_inc_f.add(Conv2D(256, (3, 3), activation='relu'))\n",
        "\n",
        " \n",
        "model_inc_f.add(Conv2D(512, (3, 3), padding='same', activation='relu'))\n",
        "model_inc_f.add(Conv2D(1024, (3, 3), padding='same', activation='relu'))\n",
        "\n",
        "model_inc_f.add(MaxPooling2D(pool_size=(2, 2)))\n",
        "model_inc_f.add(Dropout(0.25))\n",
        " \n",
        "model_inc_f.add(Flatten())\n",
        "model_inc_f.add(Dense(512, activation='relu'))\n",
        "model_inc_f.add(Dropout(0.5))\n",
        "model_inc_f.add(Dense(10, activation= 'softmax'))\n"
      ],
      "metadata": {
        "id": "u7Ngc-jdO2vN"
      },
      "execution_count": 8,
      "outputs": []
    },
    {
      "cell_type": "markdown",
      "source": [
        "Using Adam optimizer with epochs = 3 lead to Acc = 0.9876\n",
        "\n"
      ],
      "metadata": {
        "id": "BbZ7P93RRHfo"
      }
    },
    {
      "cell_type": "code",
      "source": [
        "#compile model using accuracy to measure model performance\n",
        "model_inc_f.compile(optimizer='adam', loss='categorical_crossentropy', metrics=['accuracy'])\n",
        "#train the model\n",
        "model_inc_f.fit(X_train, y_train, validation_data=(X_test, y_test), epochs=3)"
      ],
      "metadata": {
        "id": "g6n7ggSWO2xl",
        "colab": {
          "base_uri": "https://localhost:8080/"
        },
        "outputId": "101e496b-9c1b-4040-c042-7258a4bc8945"
      },
      "execution_count": null,
      "outputs": [
        {
          "output_type": "stream",
          "name": "stdout",
          "text": [
            "Epoch 1/3\n",
            "1875/1875 [==============================] - 45s 18ms/step - loss: 0.2582 - accuracy: 0.9212 - val_loss: 0.0659 - val_accuracy: 0.9802\n",
            "Epoch 2/3\n",
            "1875/1875 [==============================] - 35s 19ms/step - loss: 0.0814 - accuracy: 0.9769 - val_loss: 0.0442 - val_accuracy: 0.9868\n",
            "Epoch 3/3\n",
            "1875/1875 [==============================] - 34s 18ms/step - loss: 0.0682 - accuracy: 0.9808 - val_loss: 0.0372 - val_accuracy: 0.9876\n"
          ]
        },
        {
          "output_type": "execute_result",
          "data": {
            "text/plain": [
              "<keras.callbacks.History at 0x7f3ea0250d10>"
            ]
          },
          "metadata": {},
          "execution_count": 7
        }
      ]
    },
    {
      "cell_type": "markdown",
      "source": [
        "we can conclude that as we increase the number of epochs that the acuracey enhanced."
      ],
      "metadata": {
        "id": "hh8jlujsQleH"
      }
    },
    {
      "cell_type": "markdown",
      "source": [
        "Using SGD optimizer with epochs = 5 lead to  Acc 0.9932\n",
        "\n",
        "\n"
      ],
      "metadata": {
        "id": "qzOncIBxRSa4"
      }
    },
    {
      "cell_type": "code",
      "source": [
        "from keras.backend import batch_set_value\n",
        "#compile model using accuracy to measure model performance\n",
        "model_inc_f.compile(optimizer='SGD', loss='categorical_crossentropy', metrics=['accuracy'])\n",
        "model_inc_f.fit(X_train, y_train, validation_data=(X_test, y_test), epochs=5)"
      ],
      "metadata": {
        "colab": {
          "base_uri": "https://localhost:8080/"
        },
        "id": "LzVwMSZXO24M",
        "outputId": "3788cc58-3174-45d8-b2f4-bb6d186ba4e1"
      },
      "execution_count": null,
      "outputs": [
        {
          "output_type": "stream",
          "name": "stdout",
          "text": [
            "Epoch 1/5\n",
            "1875/1875 [==============================] - 34s 18ms/step - loss: 0.0347 - accuracy: 0.9897 - val_loss: 0.0235 - val_accuracy: 0.9926\n",
            "Epoch 2/5\n",
            "1875/1875 [==============================] - 33s 17ms/step - loss: 0.0274 - accuracy: 0.9920 - val_loss: 0.0225 - val_accuracy: 0.9937\n",
            "Epoch 3/5\n",
            "1875/1875 [==============================] - 32s 17ms/step - loss: 0.0223 - accuracy: 0.9932 - val_loss: 0.0194 - val_accuracy: 0.9947\n",
            "Epoch 4/5\n",
            "1875/1875 [==============================] - 35s 19ms/step - loss: 0.0216 - accuracy: 0.9936 - val_loss: 0.0211 - val_accuracy: 0.9939\n",
            "Epoch 5/5\n",
            "1875/1875 [==============================] - 32s 17ms/step - loss: 0.0188 - accuracy: 0.9941 - val_loss: 0.0249 - val_accuracy: 0.9932\n"
          ]
        },
        {
          "output_type": "execute_result",
          "data": {
            "text/plain": [
              "<keras.callbacks.History at 0x7f3eb562f6d0>"
            ]
          },
          "metadata": {},
          "execution_count": 10
        }
      ]
    },
    {
      "cell_type": "code",
      "source": [
        "#SGD , Batch size = 32 , epochs = 25 , val_loss: 0.0228 - val_accuracy: 0.9946\n",
        "from keras.backend import batch_set_value\n",
        "#compile model using accuracy to measure model performance\n",
        "model_inc_f.compile(optimizer='SGD', loss='categorical_crossentropy', metrics=['accuracy'])\n",
        "model_inc_f.fit(X_train, y_train, validation_data=(X_test, y_test), epochs=25 , batch_size = 32)"
      ],
      "metadata": {
        "id": "nILDv3QRT90w",
        "outputId": "eebeceb2-b132-4a35-b082-a6e600e0bb11",
        "colab": {
          "base_uri": "https://localhost:8080/"
        }
      },
      "execution_count": 9,
      "outputs": [
        {
          "output_type": "stream",
          "name": "stdout",
          "text": [
            "Epoch 1/25\n",
            "1875/1875 [==============================] - 40s 16ms/step - loss: 0.2845 - accuracy: 0.9087 - val_loss: 0.0531 - val_accuracy: 0.9835\n",
            "Epoch 2/25\n",
            "1875/1875 [==============================] - 33s 17ms/step - loss: 0.0746 - accuracy: 0.9770 - val_loss: 0.0385 - val_accuracy: 0.9877\n",
            "Epoch 3/25\n",
            "1875/1875 [==============================] - 30s 16ms/step - loss: 0.0536 - accuracy: 0.9832 - val_loss: 0.0311 - val_accuracy: 0.9914\n",
            "Epoch 4/25\n",
            "1875/1875 [==============================] - 31s 17ms/step - loss: 0.0411 - accuracy: 0.9877 - val_loss: 0.0265 - val_accuracy: 0.9921\n",
            "Epoch 5/25\n",
            "1875/1875 [==============================] - 31s 17ms/step - loss: 0.0339 - accuracy: 0.9893 - val_loss: 0.0246 - val_accuracy: 0.9922\n",
            "Epoch 6/25\n",
            "1875/1875 [==============================] - 35s 19ms/step - loss: 0.0301 - accuracy: 0.9907 - val_loss: 0.0235 - val_accuracy: 0.9930\n",
            "Epoch 7/25\n",
            "1875/1875 [==============================] - 31s 17ms/step - loss: 0.0254 - accuracy: 0.9920 - val_loss: 0.0232 - val_accuracy: 0.9938\n",
            "Epoch 8/25\n",
            "1875/1875 [==============================] - 32s 17ms/step - loss: 0.0236 - accuracy: 0.9926 - val_loss: 0.0241 - val_accuracy: 0.9929\n",
            "Epoch 9/25\n",
            "1875/1875 [==============================] - 31s 17ms/step - loss: 0.0199 - accuracy: 0.9936 - val_loss: 0.0218 - val_accuracy: 0.9938\n",
            "Epoch 10/25\n",
            "1875/1875 [==============================] - 31s 17ms/step - loss: 0.0189 - accuracy: 0.9942 - val_loss: 0.0213 - val_accuracy: 0.9931\n",
            "Epoch 11/25\n",
            "1875/1875 [==============================] - 31s 17ms/step - loss: 0.0153 - accuracy: 0.9950 - val_loss: 0.0234 - val_accuracy: 0.9941\n",
            "Epoch 12/25\n",
            "1875/1875 [==============================] - 31s 17ms/step - loss: 0.0155 - accuracy: 0.9954 - val_loss: 0.0216 - val_accuracy: 0.9947\n",
            "Epoch 13/25\n",
            "1875/1875 [==============================] - 32s 17ms/step - loss: 0.0144 - accuracy: 0.9952 - val_loss: 0.0191 - val_accuracy: 0.9939\n",
            "Epoch 14/25\n",
            "1875/1875 [==============================] - 32s 17ms/step - loss: 0.0129 - accuracy: 0.9956 - val_loss: 0.0228 - val_accuracy: 0.9926\n",
            "Epoch 15/25\n",
            "1875/1875 [==============================] - 36s 19ms/step - loss: 0.0099 - accuracy: 0.9967 - val_loss: 0.0205 - val_accuracy: 0.9948\n",
            "Epoch 16/25\n",
            "1875/1875 [==============================] - 34s 18ms/step - loss: 0.0112 - accuracy: 0.9961 - val_loss: 0.0205 - val_accuracy: 0.9952\n",
            "Epoch 17/25\n",
            "1875/1875 [==============================] - 33s 17ms/step - loss: 0.0099 - accuracy: 0.9966 - val_loss: 0.0205 - val_accuracy: 0.9950\n",
            "Epoch 18/25\n",
            "1875/1875 [==============================] - 34s 18ms/step - loss: 0.0095 - accuracy: 0.9969 - val_loss: 0.0194 - val_accuracy: 0.9950\n",
            "Epoch 19/25\n",
            "1875/1875 [==============================] - 33s 18ms/step - loss: 0.0097 - accuracy: 0.9968 - val_loss: 0.0204 - val_accuracy: 0.9947\n",
            "Epoch 20/25\n",
            "1875/1875 [==============================] - 31s 17ms/step - loss: 0.0076 - accuracy: 0.9975 - val_loss: 0.0191 - val_accuracy: 0.9953\n",
            "Epoch 21/25\n",
            "1875/1875 [==============================] - 32s 17ms/step - loss: 0.0072 - accuracy: 0.9976 - val_loss: 0.0194 - val_accuracy: 0.9945\n",
            "Epoch 22/25\n",
            "1875/1875 [==============================] - 32s 17ms/step - loss: 0.0075 - accuracy: 0.9974 - val_loss: 0.0199 - val_accuracy: 0.9943\n",
            "Epoch 23/25\n",
            "1875/1875 [==============================] - 32s 17ms/step - loss: 0.0061 - accuracy: 0.9982 - val_loss: 0.0234 - val_accuracy: 0.9946\n",
            "Epoch 24/25\n",
            "1875/1875 [==============================] - 32s 17ms/step - loss: 0.0065 - accuracy: 0.9978 - val_loss: 0.0267 - val_accuracy: 0.9933\n",
            "Epoch 25/25\n",
            "1875/1875 [==============================] - 31s 17ms/step - loss: 0.0059 - accuracy: 0.9981 - val_loss: 0.0228 - val_accuracy: 0.9946\n"
          ]
        },
        {
          "output_type": "execute_result",
          "data": {
            "text/plain": [
              "<keras.callbacks.History at 0x7f7f4393f2d0>"
            ]
          },
          "metadata": {},
          "execution_count": 9
        }
      ]
    },
    {
      "cell_type": "markdown",
      "source": [
        "Using SGD optimizer, lr = 0.01 , epochs = 5  , Batch size = 128  lead to  Acc .9905"
      ],
      "metadata": {
        "id": "TCGEF7Tx2pe1"
      }
    },
    {
      "cell_type": "code",
      "source": [
        "import keras as keras\n",
        "optimizer = keras.optimizers.SGD(lr=0.01)\n",
        "model_inc_f.compile(optimizer=optimizer, loss='categorical_crossentropy', metrics=['accuracy'])\n",
        "model_inc_f.fit(X_train, y_train, validation_data=(X_test, y_test), epochs=5 ,  batch_size= 128)"
      ],
      "metadata": {
        "id": "hkabpfWb1Mnp",
        "outputId": "28d896e4-71fc-452e-c5ed-1d3c7cd20f54",
        "colab": {
          "base_uri": "https://localhost:8080/"
        }
      },
      "execution_count": null,
      "outputs": [
        {
          "output_type": "stream",
          "name": "stdout",
          "text": [
            "Epoch 1/5\n",
            "469/469 [==============================] - 23s 44ms/step - loss: 0.0787 - accuracy: 0.9759 - val_loss: 0.0370 - val_accuracy: 0.9888\n",
            "Epoch 2/5\n",
            "469/469 [==============================] - 19s 41ms/step - loss: 0.0636 - accuracy: 0.9807 - val_loss: 0.0334 - val_accuracy: 0.9888\n",
            "Epoch 3/5\n",
            "469/469 [==============================] - 19s 41ms/step - loss: 0.0546 - accuracy: 0.9837 - val_loss: 0.0311 - val_accuracy: 0.9900\n",
            "Epoch 4/5\n",
            "469/469 [==============================] - 19s 41ms/step - loss: 0.0484 - accuracy: 0.9852 - val_loss: 0.0320 - val_accuracy: 0.9885\n",
            "Epoch 5/5\n",
            "469/469 [==============================] - 19s 40ms/step - loss: 0.0409 - accuracy: 0.9872 - val_loss: 0.0275 - val_accuracy: 0.9905\n"
          ]
        },
        {
          "output_type": "execute_result",
          "data": {
            "text/plain": [
              "<keras.callbacks.History at 0x7f41213ef4d0>"
            ]
          },
          "metadata": {},
          "execution_count": 23
        }
      ]
    },
    {
      "cell_type": "markdown",
      "source": [
        "using RMSProp optimizer and epochs = 7 , val_accuracy: 0.9735"
      ],
      "metadata": {
        "id": "1tUP7YMfRbcI"
      }
    },
    {
      "cell_type": "code",
      "source": [
        "#compile model using accuracy to measure model performance\n",
        "model_inc_f.compile(optimizer='RMSProp', loss='categorical_crossentropy', metrics=['accuracy'])\n",
        "model_inc_f.fit(X_train, y_train, validation_data=(X_test, y_test), epochs=7)"
      ],
      "metadata": {
        "id": "1c89WaHdO26l",
        "colab": {
          "base_uri": "https://localhost:8080/"
        },
        "outputId": "55b58778-213b-4254-c526-0bbb3a6e53ba"
      },
      "execution_count": null,
      "outputs": [
        {
          "output_type": "stream",
          "name": "stdout",
          "text": [
            "Epoch 1/7\n",
            "1875/1875 [==============================] - 44s 23ms/step - loss: 0.0923 - accuracy: 0.9797 - val_loss: 0.0566 - val_accuracy: 0.9862\n",
            "Epoch 2/7\n",
            "1875/1875 [==============================] - 41s 22ms/step - loss: 0.1071 - accuracy: 0.9771 - val_loss: 0.0518 - val_accuracy: 0.9859\n",
            "Epoch 3/7\n",
            "1875/1875 [==============================] - 40s 21ms/step - loss: 0.1243 - accuracy: 0.9744 - val_loss: 0.0990 - val_accuracy: 0.9799\n",
            "Epoch 4/7\n",
            "1875/1875 [==============================] - 39s 21ms/step - loss: 0.1713 - accuracy: 0.9725 - val_loss: 0.0562 - val_accuracy: 0.9844\n",
            "Epoch 5/7\n",
            "1875/1875 [==============================] - 41s 22ms/step - loss: 0.1437 - accuracy: 0.9714 - val_loss: 0.0837 - val_accuracy: 0.9850\n",
            "Epoch 6/7\n",
            "1875/1875 [==============================] - 41s 22ms/step - loss: 0.1531 - accuracy: 0.9688 - val_loss: 0.0643 - val_accuracy: 0.9832\n",
            "Epoch 7/7\n",
            "1875/1875 [==============================] - 40s 21ms/step - loss: 1.0209 - accuracy: 0.9661 - val_loss: 0.2329 - val_accuracy: 0.9735\n"
          ]
        },
        {
          "output_type": "execute_result",
          "data": {
            "text/plain": [
              "<keras.callbacks.History at 0x7f3e141f03d0>"
            ]
          },
          "metadata": {},
          "execution_count": 14
        }
      ]
    },
    {
      "cell_type": "markdown",
      "source": [
        "Q1  2. An inverted CNN where the number of filters in each layer decreases as the depth of the \n",
        "network grows i.e., the Lth layer will have less filters than the (L-1)th layer. \n",
        "\n",
        "\n",
        "---\n",
        "#SGD , epochs = 1 , batch size = 128 , val_loss: 0.1149 - val_accuracy: 0.9825\n",
        "\n"
      ],
      "metadata": {
        "id": "MkLcWc-ERwQi"
      }
    },
    {
      "cell_type": "code",
      "source": [
        "from keras.models import Sequential\n",
        "from keras.layers import Dense, Conv2D, Flatten , MaxPooling2D , Dropout \n",
        "\n",
        "#create model\n",
        "model_dec = Sequential()\n",
        "#add model layers\n",
        "\n",
        "model_dec.add(Conv2D(1024, (3, 3), padding='same', activation='relu', input_shape=(28,28,1)))\n",
        "model_dec.add(Conv2D(512, (3, 3), activation='relu'))\n",
        "model_dec.add(Conv2D(256, (3, 3), activation='relu'))\n",
        "model_dec.add(Conv2D(125, (3, 3), activation='relu'))\n",
        "model_dec.add(Conv2D(64, (3, 3), activation='relu'))\n",
        "\n",
        "\n",
        "model_dec.add(MaxPooling2D(pool_size=(2, 2)))\n",
        "model_dec.add(Dropout(0.25))\n",
        " \n",
        "model_dec.add(Conv2D(32, (3, 3), padding='same', activation='relu'))\n",
        "model_dec.add(Conv2D(16, (3, 3), activation='relu'))\n",
        "model_dec.add(Conv2D(8, (3, 3), activation='relu'))\n",
        "\n",
        " \n",
        "model_dec.add(Conv2D(7, (3, 3), padding='same', activation='relu'))\n",
        "model_dec.add(Conv2D(5, (3, 3), padding='same', activation='relu'))\n",
        "\n",
        "model_dec.add(MaxPooling2D(pool_size=(1, 1)))\n",
        "model_dec.add(Dropout(0.25))\n",
        " \n",
        "model_dec.add(Flatten())\n",
        "model_dec.add(Dense(8, activation='relu'))\n",
        "model_dec.add(Dropout(0.5))\n",
        "model_dec.add(Dense(10, activation= 'softmax'))\n"
      ],
      "metadata": {
        "id": "NILfJsi0S99U"
      },
      "execution_count": 11,
      "outputs": []
    },
    {
      "cell_type": "markdown",
      "source": [
        "Using Adam optimizer with epochs = 1 ,  lead to acc = 0.8910\n"
      ],
      "metadata": {
        "id": "8h_tEkzl4QeH"
      }
    },
    {
      "cell_type": "code",
      "source": [
        "#compile model using accuracy to measure model performance\n",
        "model_dec.compile(optimizer='adam', loss='categorical_crossentropy', metrics=['accuracy'])\n",
        "#train the model\n",
        "model_dec.fit(X_train, y_train, validation_data=(X_test, y_test), epochs=1)"
      ],
      "metadata": {
        "id": "nH9uplFMVjDn",
        "outputId": "99f40058-3a53-4731-cb83-38f799f249dd",
        "colab": {
          "base_uri": "https://localhost:8080/"
        }
      },
      "execution_count": null,
      "outputs": [
        {
          "output_type": "stream",
          "name": "stdout",
          "text": [
            "1875/1875 [==============================] - 160s 85ms/step - loss: 1.0563 - accuracy: 0.6023 - val_loss: 0.4308 - val_accuracy: 0.8910\n"
          ]
        },
        {
          "output_type": "execute_result",
          "data": {
            "text/plain": [
              "<keras.callbacks.History at 0x7f411e53d350>"
            ]
          },
          "metadata": {},
          "execution_count": 27
        }
      ]
    },
    {
      "cell_type": "markdown",
      "source": [
        "Using Adam optimizer with epochs = 3 , batch = 64 lead to acc = 0.9217\n",
        "\n",
        "\n",
        "\n",
        "\n"
      ],
      "metadata": {
        "id": "kEzFbHt7S8Ot"
      }
    },
    {
      "cell_type": "code",
      "source": [
        "#compile model using accuracy to measure model performance\n",
        "model_dec.compile(optimizer='adam', loss='categorical_crossentropy', metrics=['accuracy'])\n",
        "#train the model\n",
        "model_dec.fit(X_train, y_train, validation_data=(X_test, y_test), epochs=3, batch_size= 64)"
      ],
      "metadata": {
        "id": "cB3ScE9eS-DD",
        "colab": {
          "base_uri": "https://localhost:8080/"
        },
        "outputId": "c4534388-784c-4a77-bdbd-7b2e9a1d9828"
      },
      "execution_count": null,
      "outputs": [
        {
          "output_type": "stream",
          "name": "stdout",
          "text": [
            "Epoch 1/3\n",
            "938/938 [==============================] - 158s 164ms/step - loss: 1.7394 - accuracy: 0.3632 - val_loss: 0.9383 - val_accuracy: 0.7581\n",
            "Epoch 2/3\n",
            "938/938 [==============================] - 151s 161ms/step - loss: 1.2058 - accuracy: 0.5601 - val_loss: 0.5101 - val_accuracy: 0.8964\n",
            "Epoch 3/3\n",
            "938/938 [==============================] - 149s 159ms/step - loss: 1.0550 - accuracy: 0.6018 - val_loss: 0.4138 - val_accuracy: 0.9217\n"
          ]
        },
        {
          "output_type": "execute_result",
          "data": {
            "text/plain": [
              "<keras.callbacks.History at 0x7f41214e8e10>"
            ]
          },
          "metadata": {},
          "execution_count": 26
        }
      ]
    },
    {
      "cell_type": "code",
      "source": [
        "#compile model using accuracy to measure model performance\n",
        "model_dec.compile(optimizer='adam', loss='categorical_crossentropy', metrics=['accuracy'])\n",
        "#train the model\n",
        "model_dec.fit(X_train, y_train, validation_data=(X_test, y_test), epochs=1, batch_size= 128)"
      ],
      "metadata": {
        "id": "3mg9nAjR4d-Z",
        "outputId": "93633d5b-f07e-49cc-a775-5387a8f3a477",
        "colab": {
          "base_uri": "https://localhost:8080/"
        }
      },
      "execution_count": null,
      "outputs": [
        {
          "output_type": "stream",
          "name": "stdout",
          "text": [
            "469/469 [==============================] - 155s 315ms/step - loss: 0.9506 - accuracy: 0.6316 - val_loss: 0.3616 - val_accuracy: 0.8917\n"
          ]
        },
        {
          "output_type": "execute_result",
          "data": {
            "text/plain": [
              "<keras.callbacks.History at 0x7f411e4f2b10>"
            ]
          },
          "metadata": {},
          "execution_count": 28
        }
      ]
    },
    {
      "cell_type": "code",
      "source": [
        "#compile model using accuracy to measure model performance\n",
        "model_dec.compile(optimizer='adam', loss='categorical_crossentropy', metrics=['accuracy'])\n",
        "#train the model\n",
        "model_dec.fit(X_train, y_train, validation_data=(X_test, y_test), epochs=1, batch_size= 512)"
      ],
      "metadata": {
        "id": "3oNCi6RzVr86",
        "outputId": "d4789485-ff25-4034-9d91-501507af6813",
        "colab": {
          "base_uri": "https://localhost:8080/"
        }
      },
      "execution_count": null,
      "outputs": [
        {
          "output_type": "stream",
          "name": "stdout",
          "text": [
            "118/118 [==============================] - 363s 3s/step - loss: 0.8332 - accuracy: 0.6894 - val_loss: 0.1492 - val_accuracy: 0.9730\n"
          ]
        },
        {
          "output_type": "execute_result",
          "data": {
            "text/plain": [
              "<keras.callbacks.History at 0x7f3bcc3097d0>"
            ]
          },
          "metadata": {},
          "execution_count": 20
        }
      ]
    },
    {
      "cell_type": "markdown",
      "source": [
        "Using SGD optimizer with epochs = 1"
      ],
      "metadata": {
        "id": "8RpP7C8yTDc2"
      }
    },
    {
      "cell_type": "code",
      "source": [
        "#compile model using accuracy to measure model performance\n",
        "model_dec.compile(optimizer='SGD', loss='categorical_crossentropy', metrics=['accuracy'])\n",
        "model_dec.fit(X_train, y_train, validation_data=(X_test, y_test), epochs=1, batch_size= 32)"
      ],
      "metadata": {
        "id": "D1jZMQg2V0CS",
        "outputId": "4bb1d8f5-cbe7-4b4a-bf8d-cfa9b25a0b4d",
        "colab": {
          "base_uri": "https://localhost:8080/"
        }
      },
      "execution_count": null,
      "outputs": [
        {
          "output_type": "stream",
          "name": "stdout",
          "text": [
            "1875/1875 [==============================] - 162s 86ms/step - loss: 0.8789 - accuracy: 0.6739 - val_loss: 0.1601 - val_accuracy: 0.9758\n"
          ]
        },
        {
          "output_type": "execute_result",
          "data": {
            "text/plain": [
              "<keras.callbacks.History at 0x7f3e29f35cd0>"
            ]
          },
          "metadata": {},
          "execution_count": 21
        }
      ]
    },
    {
      "cell_type": "code",
      "source": [
        "#compile model using accuracy to measure model performance\n",
        "model_dec.compile(optimizer='SGD', loss='categorical_crossentropy', metrics=['accuracy'])\n",
        "model_dec.fit(X_train, y_train, validation_data=(X_test, y_test), epochs=1, batch_size= 64)"
      ],
      "metadata": {
        "id": "yHCyJH9lS-U7",
        "colab": {
          "base_uri": "https://localhost:8080/"
        },
        "outputId": "a2e8585d-d27f-49c9-99a5-45735bfc41ff"
      },
      "execution_count": null,
      "outputs": [
        {
          "output_type": "stream",
          "name": "stdout",
          "text": [
            "938/938 [==============================] - 153s 162ms/step - loss: 0.7972 - accuracy: 0.6969 - val_loss: 0.1168 - val_accuracy: 0.9827\n"
          ]
        },
        {
          "output_type": "execute_result",
          "data": {
            "text/plain": [
              "<keras.callbacks.History at 0x7f3dde93ccd0>"
            ]
          },
          "metadata": {},
          "execution_count": 22
        }
      ]
    },
    {
      "cell_type": "code",
      "source": [
        "#SGD , epochs = 1 , batch size = 128 , val_loss: 0.1149 - val_accuracy: 0.9825\n",
        "#compile model using accuracy to measure model performance\n",
        "model_dec.compile(optimizer='SGD', loss='categorical_crossentropy', metrics=['accuracy'])\n",
        "model_dec.fit(X_train, y_train, validation_data=(X_test, y_test), epochs=1, batch_size= 128)"
      ],
      "metadata": {
        "id": "xt1JMi9vV9OT",
        "outputId": "c05886c3-d6a6-4cc1-a13b-a3512f5bd1c8",
        "colab": {
          "base_uri": "https://localhost:8080/"
        }
      },
      "execution_count": null,
      "outputs": [
        {
          "output_type": "stream",
          "name": "stdout",
          "text": [
            "469/469 [==============================] - 150s 318ms/step - loss: 0.7653 - accuracy: 0.7078 - val_loss: 0.1149 - val_accuracy: 0.9825\n"
          ]
        },
        {
          "output_type": "execute_result",
          "data": {
            "text/plain": [
              "<keras.callbacks.History at 0x7f3dde747fd0>"
            ]
          },
          "metadata": {},
          "execution_count": 23
        }
      ]
    },
    {
      "cell_type": "markdown",
      "source": [
        "Using RMSProp optimizer with epochs = 1"
      ],
      "metadata": {
        "id": "oiv3KkyyTIQt"
      }
    },
    {
      "cell_type": "code",
      "source": [
        "#compile model using accuracy to measure model performance\n",
        "model_dec.compile(optimizer='RMSProp', loss='categorical_crossentropy', metrics=['accuracy'])\n",
        "model_dec.fit(X_train, y_train, validation_data=(X_test, y_test), epochs=1, batch_size= 32)"
      ],
      "metadata": {
        "colab": {
          "base_uri": "https://localhost:8080/"
        },
        "id": "9P2IS20jUeGj",
        "outputId": "529b4339-0ee6-480c-b46a-e32fecc4e57f"
      },
      "execution_count": null,
      "outputs": [
        {
          "output_type": "stream",
          "name": "stdout",
          "text": [
            "1875/1875 [==============================] - 164s 87ms/step - loss: 0.9435 - accuracy: 0.6892 - val_loss: 0.2021 - val_accuracy: 0.9607\n"
          ]
        },
        {
          "output_type": "execute_result",
          "data": {
            "text/plain": [
              "<keras.callbacks.History at 0x7f3dde4f2190>"
            ]
          },
          "metadata": {},
          "execution_count": 24
        }
      ]
    },
    {
      "cell_type": "code",
      "source": [
        "#compile model using accuracy to measure model performance\n",
        "model_dec.compile(optimizer='RMSProp', loss='categorical_crossentropy', metrics=['accuracy'])\n",
        "model_dec.fit(X_train, y_train, validation_data=(X_test, y_test), epochs=1, batch_size= 64)"
      ],
      "metadata": {
        "id": "mqm1-5xxWGS0",
        "outputId": "77a5ad84-3df1-47e8-bb3d-bcee425395bf",
        "colab": {
          "base_uri": "https://localhost:8080/"
        }
      },
      "execution_count": null,
      "outputs": [
        {
          "output_type": "stream",
          "name": "stdout",
          "text": [
            "938/938 [==============================] - 156s 165ms/step - loss: 0.9412 - accuracy: 0.6970 - val_loss: 0.3617 - val_accuracy: 0.8879\n"
          ]
        },
        {
          "output_type": "execute_result",
          "data": {
            "text/plain": [
              "<keras.callbacks.History at 0x7f3bc9716c50>"
            ]
          },
          "metadata": {},
          "execution_count": 25
        }
      ]
    },
    {
      "cell_type": "code",
      "source": [
        "#compile model using accuracy to measure model performance\n",
        "model_dec.compile(optimizer='RMSProp', loss='categorical_crossentropy', metrics=['accuracy'])\n",
        "model_dec.fit(X_train, y_train, validation_data=(X_test, y_test), epochs=1, batch_size= 128)"
      ],
      "metadata": {
        "id": "3WHEQN_BWHiU",
        "outputId": "15ca526c-5e9c-443a-ef7d-f4e9fe32eea1",
        "colab": {
          "base_uri": "https://localhost:8080/"
        }
      },
      "execution_count": null,
      "outputs": [
        {
          "output_type": "stream",
          "name": "stdout",
          "text": [
            "469/469 [==============================] - 152s 322ms/step - loss: 0.8743 - accuracy: 0.7119 - val_loss: 0.3130 - val_accuracy: 0.9194\n"
          ]
        },
        {
          "output_type": "execute_result",
          "data": {
            "text/plain": [
              "<keras.callbacks.History at 0x7f3bc9356850>"
            ]
          },
          "metadata": {},
          "execution_count": 26
        }
      ]
    },
    {
      "cell_type": "markdown",
      "source": [
        "Q3 3. An hour-glass shaped CNN where the number of filters will increase till the Lth layer and reduce afterwards. \n",
        "\n",
        "\n",
        "---\n",
        "#RMSProp , epochs = 25 , batch size = 256 , val_loss: 0.0336 - val_accuracy: 0.9907\n",
        "\n"
      ],
      "metadata": {
        "id": "sTp8nSHyTODO"
      }
    },
    {
      "cell_type": "code",
      "source": [
        "from keras.models import Sequential\n",
        "from keras.layers import Dense, Conv2D, Flatten , MaxPooling2D , Dropout \n",
        "\n",
        "#create model\n",
        "model_HG = Sequential()\n",
        "#add model layers\n",
        "\n",
        "model_HG.add(Conv2D(5, (3, 3), padding='same', activation='relu', input_shape=(28,28,1)))\n",
        "model_HG.add(Conv2D(7, (3, 3), activation='relu'))\n",
        "model_HG.add(Conv2D(8, (3, 3), activation='relu'))\n",
        "model_HG.add(Conv2D(16, (3, 3), activation='relu'))\n",
        "model_HG.add(Conv2D(32, (3, 3), activation='relu'))\n",
        "\n",
        "\n",
        "model_HG.add(MaxPooling2D(pool_size=(2, 2)))\n",
        "model_HG.add(Dropout(0.25))\n",
        " \n",
        "model_HG.add(Conv2D(16, (3, 3), padding='same', activation='relu'))\n",
        "model_HG.add(Conv2D(8, (3, 3), activation='relu'))\n",
        "model_HG.add(Conv2D(7, (3, 3), activation='relu'))\n",
        "\n",
        " \n",
        "model_HG.add(Conv2D(5, (3, 3), padding='same', activation='relu'))\n",
        "model_HG.add(Conv2D(3, (3, 3), padding='same', activation='relu'))\n",
        "\n",
        "model_HG.add(MaxPooling2D(pool_size=(2, 2)))\n",
        "model_HG.add(Dropout(0.25))\n",
        " \n",
        "model_HG.add(Flatten())\n",
        "model_HG.add(Dense(512, activation='relu'))\n",
        "model_HG.add(Dropout(0.5))\n",
        "model_HG.add(Dense(10, activation= 'softmax'))\n"
      ],
      "metadata": {
        "id": "ZilunzRaUeMJ"
      },
      "execution_count": null,
      "outputs": []
    },
    {
      "cell_type": "code",
      "source": [
        "#compile model using accuracy to measure model performance\n",
        "model_HG.compile(optimizer='adam', loss='categorical_crossentropy', metrics=['accuracy'])\n",
        "#train the model\n",
        "model_HG.fit(X_train, y_train, validation_data=(X_test, y_test), epochs=3, batch_size= 64 )"
      ],
      "metadata": {
        "id": "O4VaOwiJUePI",
        "colab": {
          "base_uri": "https://localhost:8080/"
        },
        "outputId": "d6810e0d-6404-4b21-f2f8-4f99c8599be2"
      },
      "execution_count": null,
      "outputs": [
        {
          "output_type": "stream",
          "name": "stdout",
          "text": [
            "Epoch 1/3\n",
            "1875/1875 [==============================] - 161s 85ms/step - loss: 0.8231 - accuracy: 0.7335 - val_loss: 0.1897 - val_accuracy: 0.9433\n",
            "Epoch 2/3\n",
            "1875/1875 [==============================] - 177s 95ms/step - loss: 0.2643 - accuracy: 0.9212 - val_loss: 0.1116 - val_accuracy: 0.9671\n",
            "Epoch 3/3\n",
            "1875/1875 [==============================] - 165s 88ms/step - loss: 0.2031 - accuracy: 0.9407 - val_loss: 0.0922 - val_accuracy: 0.9723\n"
          ]
        },
        {
          "output_type": "execute_result",
          "data": {
            "text/plain": [
              "<keras.callbacks.History at 0x7f0c0ccc9350>"
            ]
          },
          "metadata": {},
          "execution_count": 9
        }
      ]
    },
    {
      "cell_type": "code",
      "source": [
        "#compile model using accuracy to measure model performance\n",
        "model_HG.compile(optimizer='adam', loss='categorical_crossentropy', metrics=['accuracy'])\n",
        "#train the model\n",
        "model_HG.fit(X_train, y_train, validation_data=(X_test, y_test), epochs=3, batch_size= 128 )"
      ],
      "metadata": {
        "id": "cuulp4Rh0CYb",
        "outputId": "32a3dfe3-c2f6-4974-999c-779318256dab",
        "colab": {
          "base_uri": "https://localhost:8080/"
        }
      },
      "execution_count": null,
      "outputs": [
        {
          "output_type": "stream",
          "name": "stdout",
          "text": [
            "Epoch 1/3\n",
            "469/469 [==============================] - 5s 8ms/step - loss: 0.0815 - accuracy: 0.9769 - val_loss: 0.0391 - val_accuracy: 0.9895\n",
            "Epoch 2/3\n",
            "469/469 [==============================] - 3s 7ms/step - loss: 0.0720 - accuracy: 0.9793 - val_loss: 0.0392 - val_accuracy: 0.9894\n",
            "Epoch 3/3\n",
            "469/469 [==============================] - 5s 11ms/step - loss: 0.0719 - accuracy: 0.9794 - val_loss: 0.0480 - val_accuracy: 0.9850\n"
          ]
        },
        {
          "output_type": "execute_result",
          "data": {
            "text/plain": [
              "<keras.callbacks.History at 0x7f4162049490>"
            ]
          },
          "metadata": {},
          "execution_count": 16
        }
      ]
    },
    {
      "cell_type": "code",
      "source": [
        "#compile model using accuracy to measure model performance\n",
        "model_HG.compile(optimizer='SGD', loss='categorical_crossentropy', metrics=['accuracy'])\n",
        "model_HG.fit(X_train, y_train, validation_data=(X_test, y_test), epochs=3 , batch_size= 64)"
      ],
      "metadata": {
        "id": "6pxYLIWxUeSB",
        "colab": {
          "base_uri": "https://localhost:8080/"
        },
        "outputId": "234d7f96-7127-4edd-cad7-73f809ccb588"
      },
      "execution_count": null,
      "outputs": [
        {
          "output_type": "stream",
          "name": "stdout",
          "text": [
            "Epoch 1/3\n",
            "938/938 [==============================] - 7s 7ms/step - loss: 0.1278 - accuracy: 0.9611 - val_loss: 0.0663 - val_accuracy: 0.9796\n",
            "Epoch 2/3\n",
            "938/938 [==============================] - 7s 7ms/step - loss: 0.1195 - accuracy: 0.9647 - val_loss: 0.0518 - val_accuracy: 0.9843\n",
            "Epoch 3/3\n",
            "938/938 [==============================] - 8s 8ms/step - loss: 0.1121 - accuracy: 0.9668 - val_loss: 0.0559 - val_accuracy: 0.9833\n"
          ]
        },
        {
          "output_type": "execute_result",
          "data": {
            "text/plain": [
              "<keras.callbacks.History at 0x7f41adc69750>"
            ]
          },
          "metadata": {},
          "execution_count": 12
        }
      ]
    },
    {
      "cell_type": "code",
      "source": [
        "#compile model using accuracy to measure model performance\n",
        "model_HG.compile(optimizer='SGD', loss='categorical_crossentropy', metrics=['accuracy'])\n",
        "model_HG.fit(X_train, y_train, validation_data=(X_test, y_test), epochs=5 , batch_size= 32)"
      ],
      "metadata": {
        "id": "ARr1AygDzQi5",
        "outputId": "67518c6f-07b2-4ea9-97d0-c4ff2bf621cd",
        "colab": {
          "base_uri": "https://localhost:8080/"
        }
      },
      "execution_count": null,
      "outputs": [
        {
          "output_type": "stream",
          "name": "stdout",
          "text": [
            "Epoch 1/5\n",
            "1875/1875 [==============================] - 12s 6ms/step - loss: 0.1348 - accuracy: 0.9603 - val_loss: 0.0583 - val_accuracy: 0.9816\n",
            "Epoch 2/5\n",
            "1875/1875 [==============================] - 11s 6ms/step - loss: 0.1253 - accuracy: 0.9631 - val_loss: 0.0586 - val_accuracy: 0.9812\n",
            "Epoch 3/5\n",
            "1875/1875 [==============================] - 10s 6ms/step - loss: 0.1217 - accuracy: 0.9643 - val_loss: 0.0593 - val_accuracy: 0.9832\n",
            "Epoch 4/5\n",
            "1875/1875 [==============================] - 10s 6ms/step - loss: 0.1125 - accuracy: 0.9671 - val_loss: 0.0450 - val_accuracy: 0.9868\n",
            "Epoch 5/5\n",
            "1875/1875 [==============================] - 11s 6ms/step - loss: 0.1082 - accuracy: 0.9685 - val_loss: 0.0556 - val_accuracy: 0.9829\n"
          ]
        },
        {
          "output_type": "execute_result",
          "data": {
            "text/plain": [
              "<keras.callbacks.History at 0x7f41ad208850>"
            ]
          },
          "metadata": {},
          "execution_count": 13
        }
      ]
    },
    {
      "cell_type": "code",
      "source": [
        "#compile model using accuracy to measure model performance\n",
        "model_HG.compile(optimizer='RMSProp', loss='categorical_crossentropy', metrics=['accuracy'])\n",
        "model_HG.fit(X_train, y_train, validation_data=(X_test, y_test), epochs=7 , batch_size= 64)"
      ],
      "metadata": {
        "id": "_DK4UvNDUeUo",
        "colab": {
          "base_uri": "https://localhost:8080/"
        },
        "outputId": "68d8bfe6-075f-40b8-8b25-ab30df3887a2"
      },
      "execution_count": null,
      "outputs": [
        {
          "output_type": "stream",
          "name": "stdout",
          "text": [
            "Epoch 1/7\n",
            "938/938 [==============================] - 10s 9ms/step - loss: 0.1133 - accuracy: 0.9668 - val_loss: 0.0575 - val_accuracy: 0.9824\n",
            "Epoch 2/7\n",
            "938/938 [==============================] - 7s 8ms/step - loss: 0.1149 - accuracy: 0.9679 - val_loss: 0.0780 - val_accuracy: 0.9772\n",
            "Epoch 3/7\n",
            "938/938 [==============================] - 7s 8ms/step - loss: 0.1065 - accuracy: 0.9694 - val_loss: 0.0600 - val_accuracy: 0.9823\n",
            "Epoch 4/7\n",
            "938/938 [==============================] - 7s 8ms/step - loss: 0.1068 - accuracy: 0.9690 - val_loss: 0.0503 - val_accuracy: 0.9853\n",
            "Epoch 5/7\n",
            "938/938 [==============================] - 7s 7ms/step - loss: 0.1045 - accuracy: 0.9705 - val_loss: 0.0500 - val_accuracy: 0.9859\n",
            "Epoch 6/7\n",
            "938/938 [==============================] - 7s 8ms/step - loss: 0.1026 - accuracy: 0.9709 - val_loss: 0.0426 - val_accuracy: 0.9882\n",
            "Epoch 7/7\n",
            "938/938 [==============================] - 8s 8ms/step - loss: 0.0983 - accuracy: 0.9722 - val_loss: 0.0491 - val_accuracy: 0.9856\n"
          ]
        },
        {
          "output_type": "execute_result",
          "data": {
            "text/plain": [
              "<keras.callbacks.History at 0x7f41ad03e9d0>"
            ]
          },
          "metadata": {},
          "execution_count": 14
        }
      ]
    },
    {
      "cell_type": "code",
      "source": [
        "#compile model using accuracy to measure model performance\n",
        "model_HG.compile(optimizer='RMSProp', loss='categorical_crossentropy', metrics=['accuracy'])\n",
        "model_HG.fit(X_train, y_train, validation_data=(X_test, y_test), epochs=3 , batch_size= 128)"
      ],
      "metadata": {
        "id": "gjOwipH6zV_4",
        "outputId": "1d1e15dd-aa6a-4ec7-994d-905a395614fc",
        "colab": {
          "base_uri": "https://localhost:8080/"
        }
      },
      "execution_count": null,
      "outputs": [
        {
          "output_type": "stream",
          "name": "stdout",
          "text": [
            "Epoch 1/3\n",
            "469/469 [==============================] - 5s 9ms/step - loss: 0.0879 - accuracy: 0.9759 - val_loss: 0.0412 - val_accuracy: 0.9873\n",
            "Epoch 2/3\n",
            "469/469 [==============================] - 4s 8ms/step - loss: 0.0827 - accuracy: 0.9767 - val_loss: 0.0592 - val_accuracy: 0.9825\n",
            "Epoch 3/3\n",
            "469/469 [==============================] - 4s 8ms/step - loss: 0.0801 - accuracy: 0.9779 - val_loss: 0.0382 - val_accuracy: 0.9890\n"
          ]
        },
        {
          "output_type": "execute_result",
          "data": {
            "text/plain": [
              "<keras.callbacks.History at 0x7f41981c8c10>"
            ]
          },
          "metadata": {},
          "execution_count": 15
        }
      ]
    },
    {
      "cell_type": "code",
      "source": [
        "#RMSProp , epochs = 25 , batch size = 256\n",
        "#compile model using accuracy to measure model performance\n",
        "model_HG.compile(optimizer='RMSProp', loss='categorical_crossentropy', metrics=['accuracy'])\n",
        "model_HG.fit(X_train, y_train, validation_data=(X_test, y_test), epochs=3 , batch_size= 256)"
      ],
      "metadata": {
        "id": "cC84jLDf0qcD",
        "outputId": "4d81bf7b-d6de-4537-ac5c-29cedc5e12ad",
        "colab": {
          "base_uri": "https://localhost:8080/"
        }
      },
      "execution_count": null,
      "outputs": [
        {
          "output_type": "stream",
          "name": "stdout",
          "text": [
            "Epoch 1/3\n",
            "235/235 [==============================] - 6s 13ms/step - loss: 0.0652 - accuracy: 0.9811 - val_loss: 0.0384 - val_accuracy: 0.9883\n",
            "Epoch 2/3\n",
            "235/235 [==============================] - 3s 12ms/step - loss: 0.0601 - accuracy: 0.9827 - val_loss: 0.0385 - val_accuracy: 0.9893\n",
            "Epoch 3/3\n",
            "235/235 [==============================] - 3s 12ms/step - loss: 0.0583 - accuracy: 0.9828 - val_loss: 0.0336 - val_accuracy: 0.9907\n"
          ]
        },
        {
          "output_type": "execute_result",
          "data": {
            "text/plain": [
              "<keras.callbacks.History at 0x7f41985308d0>"
            ]
          },
          "metadata": {},
          "execution_count": 17
        }
      ]
    },
    {
      "cell_type": "code",
      "source": [
        "#compile model using accuracy to measure model performance\n",
        "model_HG.compile(optimizer='RMSProp', loss='categorical_crossentropy', metrics=['accuracy'])\n",
        "model_HG.fit(X_train, y_train, validation_data=(X_test, y_test), epochs=25 , batch_size= 32)"
      ],
      "metadata": {
        "id": "j4H0q1c1Utvv"
      },
      "execution_count": null,
      "outputs": []
    },
    {
      "cell_type": "code",
      "source": [
        "#compile model using accuracy to measure model performance\n",
        "model_HG.compile(optimizer='RMSProp', loss='categorical_crossentropy', metrics=['accuracy'])\n",
        "model_HG.fit(X_train, y_train, validation_data=(X_test, y_test), epochs=3 , batch_size= 512)"
      ],
      "metadata": {
        "id": "ySW7gpWF0xFi",
        "outputId": "8b3bbf3a-ba08-4f9c-e1d7-d1cdeb10138b",
        "colab": {
          "base_uri": "https://localhost:8080/"
        }
      },
      "execution_count": null,
      "outputs": [
        {
          "output_type": "stream",
          "name": "stdout",
          "text": [
            "Epoch 1/3\n",
            "118/118 [==============================] - 5s 24ms/step - loss: 0.0554 - accuracy: 0.9838 - val_loss: 0.0369 - val_accuracy: 0.9894\n",
            "Epoch 2/3\n",
            "118/118 [==============================] - 2s 21ms/step - loss: 0.0524 - accuracy: 0.9844 - val_loss: 0.0382 - val_accuracy: 0.9888\n",
            "Epoch 3/3\n",
            "118/118 [==============================] - 2s 21ms/step - loss: 0.0523 - accuracy: 0.9847 - val_loss: 0.0464 - val_accuracy: 0.9895\n"
          ]
        },
        {
          "output_type": "execute_result",
          "data": {
            "text/plain": [
              "<keras.callbacks.History at 0x7f414a018790>"
            ]
          },
          "metadata": {},
          "execution_count": 18
        }
      ]
    }
  ]
}