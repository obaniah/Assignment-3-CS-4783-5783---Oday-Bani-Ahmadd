{
  "nbformat": 4,
  "nbformat_minor": 0,
  "metadata": {
    "colab": {
      "provenance": [],
      "collapsed_sections": [],
      "authorship_tag": "ABX9TyOl1Ys9nuZYIoi8IMass/Vx",
      "include_colab_link": true
    },
    "kernelspec": {
      "name": "python3",
      "display_name": "Python 3"
    },
    "language_info": {
      "name": "python"
    },
    "accelerator": "GPU",
    "gpuClass": "standard"
  },
  "cells": [
    {
      "cell_type": "markdown",
      "metadata": {
        "id": "view-in-github",
        "colab_type": "text"
      },
      "source": [
        "<a href=\"https://colab.research.google.com/github/obaniah/Assignment-3-CS-4783-5783---Oday-Bani-Ahmadd/blob/main/Q1_AS_3_ML_CS_5783_ODAY_BANI_AHMAD.ipynb\" target=\"_parent\"><img src=\"https://colab.research.google.com/assets/colab-badge.svg\" alt=\"Open In Colab\"/></a>"
      ]
    },
    {
      "cell_type": "markdown",
      "source": [
        "Q1.1"
      ],
      "metadata": {
        "id": "slaM_7NxOjaF"
      }
    },
    {
      "cell_type": "code",
      "execution_count": null,
      "metadata": {
        "id": "6KH6BUlLOd8Y",
        "colab": {
          "base_uri": "https://localhost:8080/"
        },
        "outputId": "453fdcac-c119-4bbb-d057-22ef17bf7bbc"
      },
      "outputs": [
        {
          "output_type": "stream",
          "name": "stdout",
          "text": [
            "Downloading data from https://storage.googleapis.com/tensorflow/tf-keras-datasets/mnist.npz\n",
            "11490434/11490434 [==============================] - 0s 0us/step\n"
          ]
        }
      ],
      "source": [
        "from keras.datasets import mnist\n",
        "#download mnist data and split into train and test sets\n",
        "(X_train, y_train), (X_test, y_test) = mnist.load_data()"
      ]
    },
    {
      "cell_type": "code",
      "source": [
        "import matplotlib.pyplot as plt\n",
        "#plot the first image in the dataset\n",
        "plt.imshow(X_train[0])"
      ],
      "metadata": {
        "colab": {
          "base_uri": "https://localhost:8080/",
          "height": 283
        },
        "id": "TNNSjsbcOyiz",
        "outputId": "c4749267-c7fb-4e3b-842f-991b056946e3"
      },
      "execution_count": null,
      "outputs": [
        {
          "output_type": "execute_result",
          "data": {
            "text/plain": [
              "<matplotlib.image.AxesImage at 0x7f0c0d1c3850>"
            ]
          },
          "metadata": {},
          "execution_count": 4
        },
        {
          "output_type": "display_data",
          "data": {
            "text/plain": [
              "<Figure size 432x288 with 1 Axes>"
            ],
            "image/png": "[encoded data removed]"
          },
          "metadata": {
            "needs_background": "light"
          }
        }
      ]
    },
    {
      "cell_type": "code",
      "source": [
        "#check image shape\n",
        "X_train[0].shape"
      ],
      "metadata": {
        "colab": {
          "base_uri": "https://localhost:8080/"
        },
        "id": "VV7gd4KMO1hF",
        "outputId": "48164428-8e26-4fd2-e672-73dc353b7d58"
      },
      "execution_count": null,
      "outputs": [
        {
          "output_type": "execute_result",
          "data": {
            "text/plain": [
              "(28, 28)"
            ]
          },
          "metadata": {},
          "execution_count": 5
        }
      ]
    },
    {
      "cell_type": "code",
      "source": [
        "#reshape data to fit model\n",
        "X_train = X_train.reshape(60000,28,28,1)\n",
        "X_test = X_test.reshape(10000,28,28,1)"
      ],
      "metadata": {
        "id": "otBDuhK2O2ke"
      },
      "execution_count": null,
      "outputs": []
    },
    {
      "cell_type": "code",
      "source": [
        "from keras.utils import to_categorical\n",
        "#one-hot encode target column\n",
        "y_train = to_categorical(y_train)\n",
        "y_test = to_categorical(y_test)\n",
        "y_train[0]"
      ],
      "metadata": {
        "colab": {
          "base_uri": "https://localhost:8080/"
        },
        "id": "8-swPgsmO2sd",
        "outputId": "aa27efe1-464b-4e25-f3fb-622293c8ddec"
      },
      "execution_count": null,
      "outputs": [
        {
          "output_type": "execute_result",
          "data": {
            "text/plain": [
              "array([0., 0., 0., 0., 0., 1., 0., 0., 0., 0.], dtype=float32)"
            ]
          },
          "metadata": {},
          "execution_count": 7
        }
      ]
    },
    {
      "cell_type": "markdown",
      "source": [
        "Q1- 1. A regular CNN where the number of filters in each layer **increases** as the depth of the \n",
        "network grows i.e., the Lth layer will have more filters than the (L-1)th layer. "
      ],
      "metadata": {
        "id": "o3n3OG96KNxq"
      }
    },
    {
      "cell_type": "code",
      "source": [
        "from keras.models import Sequential\n",
        "from keras.layers import Dense, Conv2D, Flatten , MaxPooling2D , Dropout \n",
        "\n",
        "#create model\n",
        "model_inc_f = Sequential()\n",
        "#add model layers\n",
        "\n",
        "model_inc_f.add(Conv2D(5, (3, 3), padding='same', activation='relu', input_shape=(28,28,1)))\n",
        "model_inc_f.add(Conv2D(7, (3, 3), activation='relu'))\n",
        "model_inc_f.add(Conv2D(8, (3, 3), activation='relu'))\n",
        "model_inc_f.add(Conv2D(16, (3, 3), activation='relu'))\n",
        "model_inc_f.add(Conv2D(32, (3, 3), activation='relu'))\n",
        "\n",
        "\n",
        "model_inc_f.add(MaxPooling2D(pool_size=(2, 2)))\n",
        "model_inc_f.add(Dropout(0.25))\n",
        " \n",
        "model_inc_f.add(Conv2D(64, (3, 3), padding='same', activation='relu'))\n",
        "model_inc_f.add(Conv2D(128, (3, 3), activation='relu'))\n",
        "model_inc_f.add(Conv2D(256, (3, 3), activation='relu'))\n",
        "\n",
        " \n",
        "model_inc_f.add(Conv2D(512, (3, 3), padding='same', activation='relu'))\n",
        "model_inc_f.add(Conv2D(1024, (3, 3), padding='same', activation='relu'))\n",
        "\n",
        "model_inc_f.add(MaxPooling2D(pool_size=(2, 2)))\n",
        "model_inc_f.add(Dropout(0.25))\n",
        " \n",
        "model_inc_f.add(Flatten())\n",
        "model_inc_f.add(Dense(512, activation='relu'))\n",
        "model_inc_f.add(Dropout(0.5))\n",
        "model_inc_f.add(Dense(10, activation= 'softmax'))\n"
      ],
      "metadata": {
        "id": "u7Ngc-jdO2vN"
      },
      "execution_count": null,
      "outputs": []
    },
    {
      "cell_type": "code",
      "source": [
        "#compile model using accuracy to measure model performance\n",
        "model_inc_f.compile(optimizer='adam', loss='categorical_crossentropy', metrics=['accuracy'])\n",
        "#train the model\n",
        "model_inc_f.fit(X_train, y_train, validation_data=(X_test, y_test), epochs=3)"
      ],
      "metadata": {
        "id": "g6n7ggSWO2xl",
        "colab": {
          "base_uri": "https://localhost:8080/"
        },
        "outputId": "c404a9cb-12eb-4535-a5e1-11e029694488"
      },
      "execution_count": null,
      "outputs": [
        {
          "output_type": "stream",
          "name": "stdout",
          "text": [
            "1875/1875 [==============================] - 34s 17ms/step - loss: 0.2535 - accuracy: 0.9215 - val_loss: 0.0556 - val_accuracy: 0.9838\n"
          ]
        },
        {
          "output_type": "execute_result",
          "data": {
            "text/plain": [
              "<keras.callbacks.History at 0x7fe71667fed0>"
            ]
          },
          "metadata": {},
          "execution_count": 63
        }
      ]
    },
    {
      "cell_type": "code",
      "source": [
        "#compile model using accuracy to measure model performance\n",
        "model_inc_f_1.compile(optimizer='SGD', loss='categorical_crossentropy', metrics=['accuracy'])\n",
        "model_inc_f_1.fit(X_train, y_train, validation_data=(X_test, y_test), epochs=3)"
      ],
      "metadata": {
        "colab": {
          "base_uri": "https://localhost:8080/"
        },
        "id": "LzVwMSZXO24M",
        "outputId": "7437b6f9-ec85-4df3-bb10-c1c6af3954d9"
      },
      "execution_count": null,
      "outputs": [
        {
          "output_type": "stream",
          "name": "stdout",
          "text": [
            "1875/1875 [==============================] - 31s 16ms/step - loss: 0.0515 - accuracy: 0.9854 - val_loss: 0.0291 - val_accuracy: 0.9905\n"
          ]
        },
        {
          "output_type": "execute_result",
          "data": {
            "text/plain": [
              "<keras.callbacks.History at 0x7fe337e49c10>"
            ]
          },
          "metadata": {},
          "execution_count": 64
        }
      ]
    },
    {
      "cell_type": "code",
      "source": [
        "#compile model using accuracy to measure model performance\n",
        "model_inc_f_2.compile(optimizer='RMSProp', loss='categorical_crossentropy', metrics=['accuracy'])\n",
        "model_inc_f_2.fit(X_train, y_train, validation_data=(X_test, y_test), epochs=3)"
      ],
      "metadata": {
        "id": "1c89WaHdO26l",
        "colab": {
          "base_uri": "https://localhost:8080/"
        },
        "outputId": "9a3eee78-2a66-4b42-bf0a-57259e79d6c8"
      },
      "execution_count": null,
      "outputs": [
        {
          "output_type": "stream",
          "name": "stdout",
          "text": [
            "1875/1875 [==============================] - 43s 22ms/step - loss: 0.1028 - accuracy: 0.9740 - val_loss: 0.0987 - val_accuracy: 0.9767\n"
          ]
        },
        {
          "output_type": "execute_result",
          "data": {
            "text/plain": [
              "<keras.callbacks.History at 0x7fe4eabe55d0>"
            ]
          },
          "metadata": {},
          "execution_count": 65
        }
      ]
    },
    {
      "cell_type": "code",
      "source": [],
      "metadata": {
        "id": "L789smlAI3VO"
      },
      "execution_count": null,
      "outputs": []
    },
    {
      "cell_type": "code",
      "source": [
        "score = model.evaluate(X_test, y_test, verbose=0)\n",
        "print(f'Test loss: {score[0]} / Test accuracy: {score[1]}')"
      ],
      "metadata": {
        "colab": {
          "base_uri": "https://localhost:8080/"
        },
        "id": "nF1HsIMiFEuR",
        "outputId": "800683e0-de54-4981-85e4-4bca9ebdf6e6"
      },
      "execution_count": null,
      "outputs": [
        {
          "output_type": "stream",
          "name": "stdout",
          "text": [
            "Test loss: 0.09867478907108307 / Test accuracy: 0.9767000079154968\n"
          ]
        }
      ]
    },
    {
      "cell_type": "code",
      "source": [
        "#predict first 4 images in the test set\n",
        "model_inc_f_2.predict(X_test[:4])"
      ],
      "metadata": {
        "colab": {
          "base_uri": "https://localhost:8080/"
        },
        "id": "ElawFNliCjg2",
        "outputId": "03c4421e-b830-4c68-b61e-8f7dde2f2266"
      },
      "execution_count": null,
      "outputs": [
        {
          "output_type": "stream",
          "name": "stdout",
          "text": [
            "1/1 [==============================] - 0s 433ms/step\n"
          ]
        },
        {
          "output_type": "execute_result",
          "data": {
            "text/plain": [
              "array([[2.9912379e-12, 2.0331228e-09, 1.2069346e-07, 4.3575793e-10,\n",
              "        5.2658372e-10, 1.9619113e-12, 3.5164814e-16, 9.9999988e-01,\n",
              "        1.1400603e-10, 3.4192503e-08],\n",
              "       [4.2878603e-11, 1.1169775e-11, 1.0000000e+00, 1.6528334e-15,\n",
              "        3.0018563e-13, 7.3656306e-18, 2.5380344e-09, 6.5136558e-16,\n",
              "        1.5445949e-10, 3.7304545e-19],\n",
              "       [3.9553796e-10, 9.9999964e-01, 2.5171937e-08, 3.0419278e-11,\n",
              "        1.0062641e-07, 2.5163813e-09, 2.5518364e-07, 5.6847906e-08,\n",
              "        4.8330833e-08, 5.6246235e-10],\n",
              "       [9.9990404e-01, 1.8412391e-11, 3.5463039e-09, 1.0887654e-11,\n",
              "        3.8721185e-10, 2.7231197e-09, 9.5840485e-05, 8.5865225e-11,\n",
              "        6.3629592e-08, 1.0024283e-08]], dtype=float32)"
            ]
          },
          "metadata": {},
          "execution_count": 67
        }
      ]
    },
    {
      "cell_type": "code",
      "source": [
        "from keras.models import Sequential\n",
        "from keras.layers import Dense, Conv2D, Flatten , MaxPooling2D , Dropout \n",
        "\n",
        "#create model\n",
        "model_dec = Sequential()\n",
        "#add model layers\n",
        "\n",
        "model_dec.add(Conv2D(1024, (3, 3), padding='same', activation='relu', input_shape=(28,28,1)))\n",
        "model_dec.add(Conv2D(512, (3, 3), activation='relu'))\n",
        "model_dec.add(Conv2D(256, (3, 3), activation='relu'))\n",
        "model_dec.add(Conv2D(125, (3, 3), activation='relu'))\n",
        "model_dec.add(Conv2D(64, (3, 3), activation='relu'))\n",
        "\n",
        "\n",
        "model_dec.add(MaxPooling2D(pool_size=(2, 2)))\n",
        "model_dec.add(Dropout(0.25))\n",
        " \n",
        "model_dec.add(Conv2D(32, (3, 3), padding='same', activation='relu'))\n",
        "model_dec.add(Conv2D(16, (3, 3), activation='relu'))\n",
        "model_dec.add(Conv2D(8, (3, 3), activation='relu'))\n",
        "\n",
        " \n",
        "model_dec.add(Conv2D(7, (3, 3), padding='same', activation='relu'))\n",
        "model_dec.add(Conv2D(5, (3, 3), padding='same', activation='relu'))\n",
        "\n",
        "model_dec.add(MaxPooling2D(pool_size=(1, 1)))\n",
        "model_dec.add(Dropout(0.25))\n",
        " \n",
        "model_dec.add(Flatten())\n",
        "model_dec.add(Dense(8, activation='relu'))\n",
        "model_dec.add(Dropout(0.5))\n",
        "model_dec.add(Dense(10, activation= 'softmax'))\n"
      ],
      "metadata": {
        "id": "NILfJsi0S99U"
      },
      "execution_count": null,
      "outputs": []
    },
    {
      "cell_type": "code",
      "source": [
        "#compile model using accuracy to measure model performance\n",
        "model_dec.compile(optimizer='adam', loss='categorical_crossentropy', metrics=['accuracy'])\n",
        "#train the model\n",
        "model_dec.fit(X_train, y_train, validation_data=(X_test, y_test), epochs=3)"
      ],
      "metadata": {
        "id": "cB3ScE9eS-DD",
        "colab": {
          "base_uri": "https://localhost:8080/"
        },
        "outputId": "f82729a9-de91-40d3-ad51-c080970c2af7"
      },
      "execution_count": null,
      "outputs": [
        {
          "output_type": "stream",
          "name": "stdout",
          "text": [
            "Epoch 1/3\n",
            "1875/1875 [==============================] - 166s 87ms/step - loss: 1.4664 - accuracy: 0.4312 - val_loss: 0.3248 - val_accuracy: 0.9396\n",
            "Epoch 2/3\n",
            "1875/1875 [==============================] - 161s 86ms/step - loss: 1.0109 - accuracy: 0.5893 - val_loss: 0.2437 - val_accuracy: 0.9577\n",
            "Epoch 3/3\n",
            "1875/1875 [==============================] - 161s 86ms/step - loss: 0.9306 - accuracy: 0.6393 - val_loss: 0.1935 - val_accuracy: 0.9647\n"
          ]
        },
        {
          "output_type": "execute_result",
          "data": {
            "text/plain": [
              "<keras.callbacks.History at 0x7fe4ea79bad0>"
            ]
          },
          "metadata": {},
          "execution_count": 70
        }
      ]
    },
    {
      "cell_type": "code",
      "source": [
        "#compile model using accuracy to measure model performance\n",
        "model_dec_1.compile(optimizer='SGD', loss='categorical_crossentropy', metrics=['accuracy'])\n",
        "model_dec_1.fit(X_train, y_train, validation_data=(X_test, y_test), epochs=3)"
      ],
      "metadata": {
        "id": "yHCyJH9lS-U7",
        "colab": {
          "base_uri": "https://localhost:8080/"
        },
        "outputId": "605a14a0-8123-45c5-c530-b970000e936e"
      },
      "execution_count": null,
      "outputs": [
        {
          "output_type": "stream",
          "name": "stdout",
          "text": [
            "Epoch 1/3\n",
            "1875/1875 [==============================] - 160s 85ms/step - loss: 0.8891 - accuracy: 0.6525 - val_loss: 0.1591 - val_accuracy: 0.9749\n",
            "Epoch 2/3\n",
            "1875/1875 [==============================] - 160s 85ms/step - loss: 0.8560 - accuracy: 0.6736 - val_loss: 0.1542 - val_accuracy: 0.9787\n",
            "Epoch 3/3\n",
            "1875/1875 [==============================] - 160s 85ms/step - loss: 0.8438 - accuracy: 0.6825 - val_loss: 0.1431 - val_accuracy: 0.9786\n"
          ]
        },
        {
          "output_type": "execute_result",
          "data": {
            "text/plain": [
              "<keras.callbacks.History at 0x7fe337df7890>"
            ]
          },
          "metadata": {},
          "execution_count": 71
        }
      ]
    },
    {
      "cell_type": "code",
      "source": [
        "#compile model using accuracy to measure model performance\n",
        "model_dec_2.compile(optimizer='RMSProp', loss='categorical_crossentropy', metrics=['accuracy'])\n",
        "model_dec_2.fit(X_train, y_train, validation_data=(X_test, y_test), epochs=3)"
      ],
      "metadata": {
        "colab": {
          "base_uri": "https://localhost:8080/"
        },
        "id": "9P2IS20jUeGj",
        "outputId": "3b98855b-3fec-449c-a0d4-fdf9461a5742"
      },
      "execution_count": null,
      "outputs": [
        {
          "output_type": "stream",
          "name": "stdout",
          "text": [
            "Epoch 1/3\n",
            "1875/1875 [==============================] - 163s 86ms/step - loss: 0.8726 - accuracy: 0.6934 - val_loss: 0.1521 - val_accuracy: 0.9725\n",
            "Epoch 2/3\n",
            "1875/1875 [==============================] - 161s 86ms/step - loss: 0.8769 - accuracy: 0.7006 - val_loss: 0.1685 - val_accuracy: 0.9740\n",
            "Epoch 3/3\n",
            "1875/1875 [==============================] - 161s 86ms/step - loss: 0.9131 - accuracy: 0.6939 - val_loss: 0.2529 - val_accuracy: 0.9548\n"
          ]
        },
        {
          "output_type": "execute_result",
          "data": {
            "text/plain": [
              "<keras.callbacks.History at 0x7fe337b6f810>"
            ]
          },
          "metadata": {},
          "execution_count": 72
        }
      ]
    },
    {
      "cell_type": "code",
      "source": [
        "from keras.models import Sequential\n",
        "from keras.layers import Dense, Conv2D, Flatten , MaxPooling2D , Dropout \n",
        "\n",
        "#create model\n",
        "model_HG = Sequential()\n",
        "#add model layers\n",
        "\n",
        "model_HG.add(Conv2D(5, (3, 3), padding='same', activation='relu', input_shape=(28,28,1)))\n",
        "model_HG.add(Conv2D(7, (3, 3), activation='relu'))\n",
        "model_HG.add(Conv2D(8, (3, 3), activation='relu'))\n",
        "model_HG.add(Conv2D(16, (3, 3), activation='relu'))\n",
        "model_HG.add(Conv2D(32, (3, 3), activation='relu'))\n",
        "\n",
        "\n",
        "model_HG.add(MaxPooling2D(pool_size=(2, 2)))\n",
        "model_HG.add(Dropout(0.25))\n",
        " \n",
        "model_HG.add(Conv2D(16, (3, 3), padding='same', activation='relu'))\n",
        "model_HG.add(Conv2D(8, (3, 3), activation='relu'))\n",
        "model_HG.add(Conv2D(7, (3, 3), activation='relu'))\n",
        "\n",
        " \n",
        "model_HG.add(Conv2D(5, (3, 3), padding='same', activation='relu'))\n",
        "model_HG.add(Conv2D(3, (3, 3), padding='same', activation='relu'))\n",
        "\n",
        "model_HG.add(MaxPooling2D(pool_size=(2, 2)))\n",
        "model_HG.add(Dropout(0.25))\n",
        " \n",
        "model_HG.add(Flatten())\n",
        "model_HG.add(Dense(512, activation='relu'))\n",
        "model_HG.add(Dropout(0.5))\n",
        "model_HG.add(Dense(10, activation= 'softmax'))\n"
      ],
      "metadata": {
        "id": "ZilunzRaUeMJ"
      },
      "execution_count": null,
      "outputs": []
    },
    {
      "cell_type": "code",
      "source": [
        "#compile model using accuracy to measure model performance\n",
        "model_HG.compile(optimizer='adam', loss='categorical_crossentropy', metrics=['accuracy'])\n",
        "#train the model\n",
        "model_HG.fit(X_train, y_train, validation_data=(X_test, y_test), epochs=25 , )"
      ],
      "metadata": {
        "id": "O4VaOwiJUePI",
        "colab": {
          "base_uri": "https://localhost:8080/"
        },
        "outputId": "d6810e0d-6404-4b21-f2f8-4f99c8599be2"
      },
      "execution_count": null,
      "outputs": [
        {
          "output_type": "stream",
          "name": "stdout",
          "text": [
            "Epoch 1/3\n",
            "1875/1875 [==============================] - 161s 85ms/step - loss: 0.8231 - accuracy: 0.7335 - val_loss: 0.1897 - val_accuracy: 0.9433\n",
            "Epoch 2/3\n",
            "1875/1875 [==============================] - 177s 95ms/step - loss: 0.2643 - accuracy: 0.9212 - val_loss: 0.1116 - val_accuracy: 0.9671\n",
            "Epoch 3/3\n",
            "1875/1875 [==============================] - 165s 88ms/step - loss: 0.2031 - accuracy: 0.9407 - val_loss: 0.0922 - val_accuracy: 0.9723\n"
          ]
        },
        {
          "output_type": "execute_result",
          "data": {
            "text/plain": [
              "<keras.callbacks.History at 0x7f0c0ccc9350>"
            ]
          },
          "metadata": {},
          "execution_count": 9
        }
      ]
    },
    {
      "cell_type": "code",
      "source": [
        "#compile model using accuracy to measure model performance\n",
        "model_HG_sgd.compile(optimizer='SGD', loss='categorical_crossentropy', metrics=['accuracy'])\n",
        "model_HG_sgd.fit(X_train, y_train, validation_data=(X_test, y_test), epochs=25)"
      ],
      "metadata": {
        "id": "6pxYLIWxUeSB",
        "colab": {
          "base_uri": "https://localhost:8080/"
        },
        "outputId": "4fc80dd8-1deb-45ea-8082-95d910575e53"
      },
      "execution_count": null,
      "outputs": [
        {
          "output_type": "stream",
          "name": "stdout",
          "text": [
            "1875/1875 [==============================] - 166s 88ms/step - loss: 0.1690 - accuracy: 0.9495 - val_loss: 0.0821 - val_accuracy: 0.9764\n"
          ]
        },
        {
          "output_type": "execute_result",
          "data": {
            "text/plain": [
              "<keras.callbacks.History at 0x7f0c0b2f54d0>"
            ]
          },
          "metadata": {},
          "execution_count": 10
        }
      ]
    },
    {
      "cell_type": "code",
      "source": [
        "#compile model using accuracy to measure model performance\n",
        "model.compile(optimizer='RMSProp', loss='categorical_crossentropy', metrics=['accuracy'])\n",
        "model.fit(X_train, y_train, validation_data=(X_test, y_test), epochs=25)"
      ],
      "metadata": {
        "id": "_DK4UvNDUeUo",
        "colab": {
          "base_uri": "https://localhost:8080/"
        },
        "outputId": "33a607f6-ced2-4e8e-9b72-1e65d62f1164"
      },
      "execution_count": null,
      "outputs": [
        {
          "output_type": "stream",
          "name": "stdout",
          "text": [
            "1875/1875 [==============================] - 166s 88ms/step - loss: 0.1688 - accuracy: 0.9516 - val_loss: 0.0756 - val_accuracy: 0.9778\n"
          ]
        }
      ]
    }
  ]
}